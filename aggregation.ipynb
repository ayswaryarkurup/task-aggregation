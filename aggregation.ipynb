{
 "cells": [
  {
   "cell_type": "code",
   "execution_count": null,
   "metadata": {},
   "outputs": [],
   "source": [
    "import pandas as pd\n",
    "\n",
    "data_task = pd.read_csv(\"data.csv\")\n",
    "\n",
    "data_worker = pd.read_csv(\"WorkerData.csv\")\n",
    "data_worker[\"workerid\"] = df_worker[\"rater\"]\n",
    "data_worker[\"submission\"] = df_worker[\"judgement\"]\n",
    "#new dataframe to split column value\n",
    "new = data_worker[\"rater\"].str.split(\" \", n = 1, expand = True)\n",
    "\n",
    "#seperate worker submission column using new dataframe\n",
    "data_worker[\"workerid\"] = new[0]\n",
    "\n",
    "#separate worker judgement column using new dataframe\n",
    "data_worker[\"judgement\"] = new[1]\n",
    "\n",
    "#print first 5 entries of worker\n",
    "print(df_worker.head())\n",
    "\n"
   ]
  },
  {
   "cell_type": "code",
   "execution_count": null,
   "metadata": {},
   "outputs": [],
   "source": [
    "#create worker-task matrix\n",
    "\n",
    "import numpy\n",
    "\n",
    "w_count = data_worker.shape[0]\n",
    "t_count = data_task.shape[0]\n",
    "\n",
    "w_t_matrix = numpy.empty((w_count, t_count))              \n",
    "w_t_matrix.fill(0)\n",
    "w_t_matrix\n",
    "\n",
    "\n",
    "data_w_t = pd.DataFrame(w_t_matrix)\n",
    "data_w_t = data_w_t.dropna()\n",
    "print(data_w_t)"
   ]
  },
  {
   "cell_type": "code",
   "execution_count": null,
   "metadata": {},
   "outputs": [],
   "source": [
    "#worker_reliability\n",
    "from sklearn import preprocessing\n",
    "\n",
    "reliability= data_worker[\"Reliability\"]\n",
    "print(\"Worker reliability value:\")\n",
    "print(reliability.head())\n",
    "\n",
    "data_worker[\"Reliability\"] = data_worker[\"Reliability\"].apply(lambda x: (x - min(data_worker[\"Reliability\"])) * 100/ (max(data_worker[\"Reliability\"]) - min(data_worker[\"Reliability\"])))\n",
    "print(\"Worker Reliability value: after processing\")\n",
    "print(data_worker[\"Reliability\"].head())\n",
    "\n",
    "\n",
    "\n",
    "f_matrix = data_w_t\n",
    "f_matrix['Reliability'] = data_worker[\"Reliability value\"]                           # Added reliability ,Ability ,Trust_factor, Expertness columns\n",
    "f_matrix['Ability'] = numpy.random.randint(0, 1, f_matrix.shape[0])\n",
    "f_matrix['Trust_factor'] = numpy.random.randint(0, 1, f_matrix.shape[0])\n",
    "f_matrix['Expertness'] = numpy.random.randint(0, 1, f_matrix.shape[0])\n",
    "f_matrix['Task_Easiness'] = numpy.random.randint(0, 1, f_matrix.shape[0])\n",
    "print(f_matrix)\n",
    "\n",
    "\n",
    "\n",
    "\n"
   ]
  },
  {
   "cell_type": "code",
   "execution_count": null,
   "metadata": {},
   "outputs": [],
   "source": [
    "rscore_matrix = numpy.empty((w_count, t_count))\n",
    "\n",
    "for i in range(w_count):\n",
    "    for j in range(t_count):\n",
    "        if f_matrix['Ability'][i]!=0 and f_matrix['Trust_factor'][i]!=0:\n",
    "            rscore =  f_matrix[j][i]+(f_matrix['Ability'][i]*m1) +(f_matrix['Trust_factor'][i]*m2) * (f_matrix['Expertness'][i])*m3)\n",
    "            rscore_matrix[i][j] = rscore\n",
    "        else:\n",
    "            rscore_matrix[i][j] = 999.0\n",
    "            \n",
    "            \n",
    "            print(pd.DataFrame(rscore_matrix).head())\n",
    "            \n",
    "            rscore_matrix[rscore_matrix == float(\"inf\")] = 999.0\n",
    "print(pd.DataFrame(rscore_matrix).head())"
   ]
  },
  {
   "cell_type": "code",
   "execution_count": null,
   "metadata": {},
   "outputs": [],
   "source": [
    "# import the class\n",
    "from sklearn.linear_model import LogisticRegression\n",
    "feature_cols = ['Reliability']\n",
    "X = pima[feature_cols] # Features\n",
    "y = pima.label # Target variable\n",
    " x= np.dot(features, weights)\n",
    "def softmax(x):\n",
    "y_pred =1/ 1+ (1 + np.exp(-x), axis=0)\n",
    "      \n",
    "W[i]= y_pred\n",
    "\n"
   ]
  },
  {
   "cell_type": "code",
   "execution_count": null,
   "metadata": {},
   "outputs": [],
   "source": [
    " #Jaccard score\n",
    "            import numpy as np\n",
    "            from sklearn.metrics import jaccard_score\n",
    "            import numpy as np\n",
    "def compute_jaccard_similarity_score(x, y):\n",
    "     intersection_cardinality = len(set(x).intersection(set(y)))\n",
    "    union_cardinality = len(set(x).union(set(y)))\n",
    "    return intersection_cardinality / float(union_cardinality)\n",
    "\n",
    "           jscore = compute_jaccard_similarity_score(data_worker['submission'[i][j]],data_worker['submission'[i+1][j]])  \n",
    "                               \n",
    "escore_matrix = numpy.empty((w_count, t_count))\n",
    "for i in range(w_count):\n",
    "    for j in range(t_count):\n",
    "        if data_worker ['submission'][i]!=0 :\n",
    "                        escore_matrix[i][j] = jscore\n",
    "        else:\n",
    "            escore_matrix[i][j] = 999.0\n",
    "            \n",
    "            print(pd.DataFrame(escore_matrix).head())\n",
    "                                 \n",
    "            \n",
    "            escore_matrix[escore_matrix == float(\"inf\")] = 999.0\n",
    "print(pd.DataFrame(escore_matrix).head())"
   ]
  },
  {
   "cell_type": "code",
   "execution_count": null,
   "metadata": {},
   "outputs": [],
   "source": [
    "for i in range(w_count):\n",
    "    for j in range(t_count):\n",
    "        if f_matrix['rscore'][i]!=0 and C!=0:\n",
    "        prscore =  f_matrix[j][i]+(f_matrix[W][i]*m1) +(f_matrix['Task_Easiness'][i]*m2)\n",
    "            pscore_matrix[i][j] = pscore\n",
    "        else:\n",
    "            pscore_matrix[i][j] = 1-f_matrix[j][i]+(f_matrix[W][i]*m1) +(f_matrix['Task_Easiness'][i]*m2) / C-1\n",
    "            \n",
    "                        print(pd.DataFrame(pscore_matrix).head())"
   ]
  },
  {
   "cell_type": "code",
   "execution_count": null,
   "metadata": {},
   "outputs": [],
   "source": []
  }
 ],
 "metadata": {
  "kernelspec": {
   "display_name": "Python 2",
   "language": "python",
   "name": "python2"
  },
  "language_info": {
   "codemirror_mode": {
    "name": "ipython",
    "version": 2
   },
   "file_extension": ".py",
   "mimetype": "text/x-python",
   "name": "python",
   "nbconvert_exporter": "python",
   "pygments_lexer": "ipython2",
   "version": "2.7.17"
  }
 },
 "nbformat": 4,
 "nbformat_minor": 2
}
